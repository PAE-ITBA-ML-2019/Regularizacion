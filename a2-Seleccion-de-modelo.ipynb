{
 "cells": [
  {
   "cell_type": "code",
   "execution_count": null,
   "metadata": {},
   "outputs": [],
   "source": [
    "! wget https://raw.githubusercontent.com/PAE-ITBA-ML-2019/Regularizacion/master/reg_helper.py\n",
    "! wget https://raw.githubusercontent.com/PAE-ITBA-ML-2019/Regularizacion/master/fnn_helper.py\n",
    "! wget https://raw.githubusercontent.com/PAE-ITBA-ML-2019/Regularizacion/master/draw_nn.py\n",
    "! wget https://raw.githubusercontent.com/PAE-ITBA-ML-2019/Regularizacion/master/regularization_helper.py\n",
    " \n",
    "! wget https://github.com/PAE-ITBA-ML-2019/Regularizacion/raw/master/data.zip\n",
    "! unzip data.zip\n"
   ]
  },
  {
   "cell_type": "code",
   "execution_count": null,
   "metadata": {},
   "outputs": [],
   "source": [
    "%load_ext autoreload\n",
    "%autoreload 2"
   ]
  },
  {
   "cell_type": "code",
   "execution_count": null,
   "metadata": {
    "collapsed": true
   },
   "outputs": [],
   "source": [
    "import numpy as np\n",
    "from matplotlib import pyplot as plt\n",
    "from regularization_helper import plot_it, get_simple_dataset, get_polynimial_set, plot_classifier, save_dataset\n",
    "from sklearn import model_selection\n",
    "import numpy as np\n",
    "from keras.models import Sequential\n",
    "from keras.layers.core import Dense, Dropout, Activation, Flatten\n",
    "from keras import optimizers\n",
    "from fnn_helper import PlotLosses\n",
    "from keras.callbacks import ModelCheckpoint \n",
    "from keras import regularizers"
   ]
  },
  {
   "cell_type": "markdown",
   "metadata": {},
   "source": [
    "## Cargo y ploteo dataset"
   ]
  },
  {
   "cell_type": "code",
   "execution_count": null,
   "metadata": {},
   "outputs": [],
   "source": [
    "dataset_200 = np.load('200_samples_OK.npy')\n",
    "X = dataset_200[:,:2]\n",
    "y = dataset_200[:, 2]\n",
    "plot_it(X,y)\n",
    "plt.show()"
   ]
  },
  {
   "cell_type": "markdown",
   "metadata": {},
   "source": [
    "## Defino el modelo"
   ]
  },
  {
   "cell_type": "code",
   "execution_count": null,
   "metadata": {
    "collapsed": true
   },
   "outputs": [],
   "source": [
    "def get_two_layer_model_fixed():\n",
    "    input_shape=2\n",
    "    output_size=1\n",
    "    hidden_units= 10\n",
    "    lr=2\n",
    "    decay=0.0\n",
    "    model = Sequential()\n",
    "    sgd = optimizers.SGD(lr=lr, decay=decay)\n",
    "    model.add(Dense(hidden_units,input_dim=input_shape,  activation='sigmoid', ))\n",
    "    model.add(Dense(output_size, \n",
    "                    activation='sigmoid', \n",
    "                    kernel_initializer='zeros', \n",
    "                    name='Salida'\n",
    "                   ))\n",
    "    model.compile(loss = 'binary_crossentropy', optimizer=sgd, metrics=['accuracy'])\n",
    "    return model"
   ]
  },
  {
   "cell_type": "markdown",
   "metadata": {},
   "source": [
    "# K-fold Cross Validation\n",
    "- No tengo un dataset grande\n",
    "- Pros: Ayuda a validar mejor el modelo\n",
    "- Cons: Puede llevar tiempo\n",
    "- Podriamos haber separado el test set y trabajar con el training set para dividirlo"
   ]
  },
  {
   "cell_type": "code",
   "execution_count": null,
   "metadata": {
    "collapsed": true
   },
   "outputs": [],
   "source": [
    "from sklearn.model_selection import StratifiedKFold\n",
    "\n",
    "skf = StratifiedKFold(10)"
   ]
  },
  {
   "cell_type": "code",
   "execution_count": null,
   "metadata": {},
   "outputs": [],
   "source": [
    "i=0\n",
    "training_sets = []\n",
    "for train_index, test_index in skf.split(X, y):\n",
    "    i=i+1\n",
    "    print(\"CV dataset:\", i)\n",
    "    print(train_index.shape, test_index.shape)\n",
    "    dictionary = {'X_train':X[train_index], 'y_train':y[train_index], 'X_test':X[test_index],'y_test':y[test_index]}\n",
    "    training_sets.append(dictionary)"
   ]
  },
  {
   "cell_type": "markdown",
   "metadata": {},
   "source": [
    "## Grafico uno de los train/test sets"
   ]
  },
  {
   "cell_type": "code",
   "execution_count": null,
   "metadata": {},
   "outputs": [],
   "source": [
    "idx = 1\n",
    "plot_it(training_sets[idx]['X_train'],training_sets[idx]['y_train'])\n",
    "plt.show()\n",
    "plot_it(training_sets[idx]['X_test'],training_sets[idx]['y_test'])\n",
    "plt.show()"
   ]
  },
  {
   "cell_type": "markdown",
   "metadata": {},
   "source": [
    "## Entreno de manera tradicional uno de los k-folds"
   ]
  },
  {
   "cell_type": "code",
   "execution_count": null,
   "metadata": {},
   "outputs": [],
   "source": [
    "idx = 1\n",
    "plot_losses = PlotLosses(plot_interval=10, evaluate_interval=None, x_val=training_sets[idx]['X_test'], y_val_categorical=training_sets[idx]['y_test'])\n",
    "\n",
    "two_layer_model = get_two_layer_model_fixed()\n",
    "two_layer_model.fit(training_sets[idx]['X_train'], \n",
    "          training_sets[idx]['y_train'], batch_size = 25,\n",
    "          epochs=200, \n",
    "          verbose=0, \n",
    "          validation_data=(training_sets[idx]['X_test'], training_sets[idx]['y_test']), \n",
    "          callbacks=[plot_losses],\n",
    "         )"
   ]
  },
  {
   "cell_type": "markdown",
   "metadata": {},
   "source": [
    "## Entreno usando cross_val_scores de SciKitLearn"
   ]
  },
  {
   "cell_type": "code",
   "execution_count": null,
   "metadata": {
    "collapsed": true
   },
   "outputs": [],
   "source": [
    "from sklearn.model_selection import cross_val_score\n",
    "# cross_val_score(classifier, X, y, cv, n_jobs=)\n",
    "# El problema es que el 'classifier' es de sklearn y tenemos uno de Keras\n",
    "# Por lo tanto hay que utilizar un wrapper\n",
    "from keras.wrappers.scikit_learn import KerasClassifier"
   ]
  },
  {
   "cell_type": "code",
   "execution_count": null,
   "metadata": {
    "collapsed": true
   },
   "outputs": [],
   "source": [
    "classifier = KerasClassifier(get_two_layer_model_fixed, batch_size=25,  \n",
    "                             epochs=100, verbose=0)\n",
    "cross_val_scores = cross_val_score(estimator=classifier, X=X, y=y, cv=skf, \n",
    "                                   scoring='accuracy') # n_jobs=-1"
   ]
  },
  {
   "cell_type": "code",
   "execution_count": null,
   "metadata": {},
   "outputs": [],
   "source": [
    "cross_val_scores"
   ]
  },
  {
   "cell_type": "code",
   "execution_count": null,
   "metadata": {},
   "outputs": [],
   "source": [
    "cross_val_scores.mean(), cross_val_scores.std()"
   ]
  },
  {
   "cell_type": "markdown",
   "metadata": {},
   "source": [
    "- low, high accuracy and low, high variance\n",
    "- high variance --> overfitting"
   ]
  },
  {
   "cell_type": "markdown",
   "metadata": {},
   "source": [
    "# Ajuste de Hyperparametros (Parameter tunning)"
   ]
  },
  {
   "cell_type": "code",
   "execution_count": null,
   "metadata": {
    "collapsed": true
   },
   "outputs": [],
   "source": [
    "from sklearn.model_selection import GridSearchCV"
   ]
  },
  {
   "cell_type": "code",
   "execution_count": null,
   "metadata": {
    "collapsed": true
   },
   "outputs": [],
   "source": [
    "def get_two_layer_model_variable(lr, hidden_units):\n",
    "    input_shape=2\n",
    "    output_size=1\n",
    "    optimizer = optimizers.SGD(lr=lr, decay=0.0)\n",
    "    model = Sequential()\n",
    "    model.add(Dense(hidden_units,input_dim=input_shape,  activation='sigmoid', ))\n",
    "    model.add(Dense(output_size, \n",
    "                    activation='sigmoid', \n",
    "                    kernel_initializer='zeros', \n",
    "                    name='Salida'\n",
    "                   ))\n",
    "    model.compile(loss = 'binary_crossentropy', optimizer=optimizer, metrics=['accuracy'])\n",
    "    return model\n",
    "classifier_variable = KerasClassifier(build_fn=get_two_layer_model_variable, epochs=100, verbose=0)"
   ]
  },
  {
   "cell_type": "code",
   "execution_count": null,
   "metadata": {
    "collapsed": true
   },
   "outputs": [],
   "source": [
    "#sgd = optimizers.SGD(lr=2, decay=0.0)\n",
    "parameters = {\n",
    "    'batch_size': [25,100], \n",
    "    'lr': [2,1],\n",
    "    'hidden_units': [3,10]\n",
    "             }"
   ]
  },
  {
   "cell_type": "code",
   "execution_count": null,
   "metadata": {
    "collapsed": true
   },
   "outputs": [],
   "source": [
    "grid_search = GridSearchCV(estimator=classifier_variable, cv=skf, param_grid=parameters, scoring='accuracy')"
   ]
  },
  {
   "cell_type": "code",
   "execution_count": null,
   "metadata": {},
   "outputs": [],
   "source": [
    "grid_search.fit(X=X, y=y, verbose=1)"
   ]
  },
  {
   "cell_type": "code",
   "execution_count": null,
   "metadata": {
    "collapsed": true
   },
   "outputs": [],
   "source": [
    "best_parameters = grid_search.best_params_\n",
    "best_accuracy = grid_search.best_score_"
   ]
  },
  {
   "cell_type": "code",
   "execution_count": null,
   "metadata": {},
   "outputs": [],
   "source": [
    "best_parameters"
   ]
  },
  {
   "cell_type": "code",
   "execution_count": null,
   "metadata": {},
   "outputs": [],
   "source": [
    "best_accuracy"
   ]
  }
 ],
 "metadata": {
  "kernelspec": {
   "display_name": "Python 3",
   "language": "python",
   "name": "python3"
  },
  "language_info": {
   "codemirror_mode": {
    "name": "ipython",
    "version": 3
   },
   "file_extension": ".py",
   "mimetype": "text/x-python",
   "name": "python",
   "nbconvert_exporter": "python",
   "pygments_lexer": "ipython3",
   "version": "3.7.3"
  },
  "toc": {
   "nav_menu": {},
   "number_sections": true,
   "sideBar": true,
   "skip_h1_title": true,
   "toc_cell": false,
   "toc_position": {},
   "toc_section_display": "block",
   "toc_window_display": false
  }
 },
 "nbformat": 4,
 "nbformat_minor": 2
}
