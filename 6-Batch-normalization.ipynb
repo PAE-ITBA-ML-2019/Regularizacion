{
 "cells": [
  {
   "cell_type": "code",
   "execution_count": null,
   "metadata": {},
   "outputs": [],
   "source": [
    "! wget https://raw.githubusercontent.com/PAE-ITBA-ML-2019/Regularizacion/master/reg_helper.py\n",
    "! wget https://raw.githubusercontent.com/PAE-ITBA-ML-2019/Regularizacion/master/fnn_helper.py\n",
    "! wget https://raw.githubusercontent.com/PAE-ITBA-ML-2019/Regularizacion/master/draw_nn.py\n",
    "! wget https://raw.githubusercontent.com/PAE-ITBA-ML-2019/Regularizacion/master/regularization_helper.py\n",
    " \n",
    "! wget https://github.com/PAE-ITBA-ML-2019/Regularizacion/raw/master/data.zip\n",
    "! unzip data.zip\n"
   ]
  },
  {
   "cell_type": "markdown",
   "metadata": {},
   "source": [
    "### 6. Batch Normalization \n",
    "Paper: https://arxiv.org/pdf/1502.03167.pdf  \n",
    "Soluciona el problema de la \"Covariate Shift\" acelerando el entrenamiento y nos da de regalo regularización  \n",
    "\n",
    "Paper efecto regularizador: \n",
    "\n",
    "https://arxiv.org/abs/1809.00846\n",
    "\n",
    "Paper de le interferencia entre dropout y batchnormalization:  \n",
    "https://arxiv.org/abs/1801.05134"
   ]
  },
  {
   "cell_type": "markdown",
   "metadata": {},
   "source": [
    "![images/batch_norm.webp](images/batch_norm.webp)"
   ]
  },
  {
   "cell_type": "markdown",
   "metadata": {},
   "source": [
    "$\\beta$ reemplaza al bias, por lo que puede usarse en la capa densa:\n",
    "use_bias=False\n",
    "\n",
    "En el momento de testing, se usa una promediación sobre todos los batches de los $\\mu_B$ y $\\sigma^2_B$ (Exponential Weighted Average)"
   ]
  },
  {
   "cell_type": "code",
   "execution_count": null,
   "metadata": {},
   "outputs": [],
   "source": [
    "import numpy as np\n",
    "import reg_helper as RHelper\n",
    "import draw_nn\n",
    "from matplotlib import pyplot as plt \n",
    "folder = 'data/'\n",
    "X_train = np.load(folder+'X_train.npy')\n",
    "X_test = np.load(folder+'X_test.npy')\n",
    "y_train = np.load(folder+'y_train.npy') \n",
    "y_test = np.load(folder+'y_test.npy')\n",
    "\n",
    "f, (ax1, ax2) = plt.subplots(1, 2, figsize=(20,6))\n",
    "RHelper.plot_boundaries(X_train, y_train, ax=ax1)\n",
    "RHelper.plot_boundaries(X_test, y_test, ax=ax2)\n",
    "ax1.set_title('Train Data')\n",
    "ax2.set_title('CV Data')\n",
    "ax1.set_xlabel('$X_1$')\n",
    "ax1.set_ylabel('$X_2$')\n",
    "ax2.set_xlabel('$X_1$')\n",
    "ax2.set_ylabel('$X_2$')\n",
    "plt.show()"
   ]
  },
  {
   "cell_type": "code",
   "execution_count": null,
   "metadata": {},
   "outputs": [],
   "source": [
    "from keras.models import Sequential\n",
    "from keras.layers import Dense, BatchNormalization, Activation\n",
    "from keras import optimizers\n",
    "from fnn_helper import PlotLosses"
   ]
  },
  {
   "cell_type": "code",
   "execution_count": null,
   "metadata": {},
   "outputs": [],
   "source": [
    "hidden_units = 20\n",
    "input_shape = 2\n",
    "output_size = 1"
   ]
  },
  {
   "cell_type": "code",
   "execution_count": null,
   "metadata": {},
   "outputs": [],
   "source": [
    "# Con BatchNormalization\n",
    "model_bn = Sequential()\n",
    "model_bn.add(Dense(hidden_units,input_dim=input_shape))\n",
    "model_bn.add(BatchNormalization())\n",
    "model_bn.add(Activation('sigmoid'))\n",
    "model_bn.add(Dense(output_size, use_bias=False))\n",
    "model_bn.add(BatchNormalization())\n",
    "model_bn.add(Activation('sigmoid'))\n",
    "model_bn.summary()\n",
    "\n",
    "lr = 0.001 "
   ]
  },
  {
   "cell_type": "code",
   "execution_count": null,
   "metadata": {},
   "outputs": [],
   "source": [
    "# sin BatchNormalization\n",
    "model_bn = Sequential()\n",
    "model_bn.add(Dense(hidden_units,input_dim=input_shape))\n",
    "model_bn.add(Activation('sigmoid'))\n",
    "model_bn.add(Dense(output_size))\n",
    "model_bn.add(Activation('sigmoid'))\n",
    "model_bn.summary()\n",
    "\n",
    "lr = 0.1 "
   ]
  },
  {
   "cell_type": "code",
   "execution_count": null,
   "metadata": {},
   "outputs": [],
   "source": [
    "# decay = 0.001 \n",
    "batch_size = 59 \n",
    "epochs = 4000\n",
    "selectedOptimizer = optimizers.adam(lr=lr, decay=decay)\n",
    "model_bn.compile(loss = 'binary_crossentropy', optimizer=selectedOptimizer, metrics=['accuracy'])"
   ]
  },
  {
   "cell_type": "markdown",
   "metadata": {},
   "source": [
    "- Cuales son los non-trainable parameters?\n",
    "- Donde va la capa de batch normalization?"
   ]
  },
  {
   "cell_type": "code",
   "execution_count": null,
   "metadata": {},
   "outputs": [],
   "source": [
    "plot_losses_bn = PlotLosses(plot_interval=100, \n",
    "                         evaluate_interval=None, \n",
    "                         x_val=X_test, \n",
    "                         y_val_categorical=y_test)\n",
    "model_bn.fit(X_train, \n",
    "          y_train, batch_size = batch_size,\n",
    "          epochs=epochs, \n",
    "          verbose=0, \n",
    "          validation_data=(X_test, y_test), \n",
    "          callbacks=[plot_losses_bn],\n",
    "         )"
   ]
  },
  {
   "cell_type": "code",
   "execution_count": null,
   "metadata": {},
   "outputs": [],
   "source": [
    "f, (ax1, ax2) = plt.subplots(1, 2, figsize=(20,6))\n",
    "RHelper.plot_boundaries_keras(X_train, y_train, model_bn.evaluate(X_train, y_train)[1], model_bn.predict_proba, h = 0.01, margin=0.1, ax=ax1)\n",
    "RHelper.plot_boundaries_keras(X_test, y_test, model_bn.evaluate(X_test, y_test)[1], model_bn.predict_proba, h = 0.01, margin=0.1, ax=ax2)\n",
    "plt.show()"
   ]
  },
  {
   "cell_type": "markdown",
   "metadata": {},
   "source": [
    "### Se puede ver que tiene un efecto de regularización sobre los pesos"
   ]
  },
  {
   "cell_type": "code",
   "execution_count": null,
   "metadata": {},
   "outputs": [],
   "source": [
    "# Para calcular norma en cada epoch\n",
    "def get_weights_array(ws):\n",
    "    weights_norm = []\n",
    "    for weights in ws:\n",
    "        weights_norm.append(np.linalg.norm(weights[0]))\n",
    "    return weights_norm"
   ]
  },
  {
   "cell_type": "code",
   "execution_count": null,
   "metadata": {},
   "outputs": [],
   "source": [
    "weights_l1 = get_weights_array(plot_losses_bn.weights)\n",
    "plt.plot(weights_l1)\n",
    "plt.show()"
   ]
  },
  {
   "cell_type": "markdown",
   "metadata": {},
   "source": [
    "[Discución interesante](https://stackoverflow.com/questions/34716454/where-do-i-call-the-batchnormalization-function-in-keras)"
   ]
  },
  {
   "cell_type": "code",
   "execution_count": null,
   "metadata": {},
   "outputs": [],
   "source": []
  }
 ],
 "metadata": {
  "kernelspec": {
   "display_name": "Python 3",
   "language": "python",
   "name": "python3"
  },
  "language_info": {
   "codemirror_mode": {
    "name": "ipython",
    "version": 3
   },
   "file_extension": ".py",
   "mimetype": "text/x-python",
   "name": "python",
   "nbconvert_exporter": "python",
   "pygments_lexer": "ipython3",
   "version": "3.7.3"
  }
 },
 "nbformat": 4,
 "nbformat_minor": 2
}
